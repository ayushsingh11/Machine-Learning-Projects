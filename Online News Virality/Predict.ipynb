{
  "nbformat": 4,
  "nbformat_minor": 0,
  "metadata": {
    "colab": {
      "name": "Predict.ipynb",
      "provenance": [],
      "authorship_tag": "ABX9TyNTdQ1fXlie+7nwzjeZiXTE",
      "include_colab_link": true
    },
    "kernelspec": {
      "name": "python3",
      "display_name": "Python 3"
    },
    "accelerator": "GPU"
  },
  "cells": [
    {
      "cell_type": "markdown",
      "metadata": {
        "id": "view-in-github",
        "colab_type": "text"
      },
      "source": [
        "<a href=\"https://colab.research.google.com/github/ayushsingh11/Machine-Learning-Projects/blob/master/Online%20News%20Virality/Predict.ipynb\" target=\"_parent\"><img src=\"https://colab.research.google.com/assets/colab-badge.svg\" alt=\"Open In Colab\"/></a>"
      ]
    },
    {
      "cell_type": "code",
      "metadata": {
        "id": "y0zyVn1igUXt",
        "colab_type": "code",
        "outputId": "5456060a-eced-4312-da53-428409478041",
        "colab": {
          "base_uri": "https://localhost:8080/",
          "height": 118
        }
      },
      "source": [
        "from google.colab import drive\n",
        "drive.mount('/content//drive')"
      ],
      "execution_count": 2,
      "outputs": [
        {
          "output_type": "stream",
          "text": [
            "Go to this URL in a browser: https://accounts.google.com/o/oauth2/auth?client_id=947318989803-6bn6qk8qdgf4n4g3pfee6491hc0brc4i.apps.googleusercontent.com&redirect_uri=urn%3aietf%3awg%3aoauth%3a2.0%3aoob&response_type=code&scope=email%20https%3a%2f%2fwww.googleapis.com%2fauth%2fdocs.test%20https%3a%2f%2fwww.googleapis.com%2fauth%2fdrive%20https%3a%2f%2fwww.googleapis.com%2fauth%2fdrive.photos.readonly%20https%3a%2f%2fwww.googleapis.com%2fauth%2fpeopleapi.readonly\n",
            "\n",
            "Enter your authorization code:\n",
            "··········\n",
            "Mounted at /content//drive\n"
          ],
          "name": "stdout"
        }
      ]
    },
    {
      "cell_type": "code",
      "metadata": {
        "id": "7jH5oE07g-Y3",
        "colab_type": "code",
        "outputId": "ba9bcf90-37b6-420c-e253-f61f45f10ccf",
        "colab": {
          "base_uri": "https://localhost:8080/",
          "height": 33
        }
      },
      "source": [
        "cd /content/drive/My Drive/Colab Notebooks/Bipolar"
      ],
      "execution_count": 3,
      "outputs": [
        {
          "output_type": "stream",
          "text": [
            "/content/drive/My Drive/Colab Notebooks/Bipolar\n"
          ],
          "name": "stdout"
        }
      ]
    },
    {
      "cell_type": "code",
      "metadata": {
        "id": "2aSr8zX0g-sC",
        "colab_type": "code",
        "colab": {}
      },
      "source": [
        "import tensorflow as tf\n",
        "import pandas\n",
        "from sklearn.model_selection import train_test_split\n",
        "from keras import models\n",
        "from keras import layers\n",
        "from keras.utils import to_categorical\n",
        "from keras.layers import Dropout, Dense\n",
        "from keras.constraints import maxnorm\n",
        "from sklearn import preprocessing\n",
        "from sklearn.metrics import mean_squared_error\n"
      ],
      "execution_count": 0,
      "outputs": []
    },
    {
      "cell_type": "code",
      "metadata": {
        "id": "JSNVdyvXia_B",
        "colab_type": "code",
        "colab": {}
      },
      "source": [
        ""
      ],
      "execution_count": 0,
      "outputs": []
    },
    {
      "cell_type": "code",
      "metadata": {
        "id": "0vQcmP3xjtHo",
        "colab_type": "code",
        "colab": {}
      },
      "source": [
        "FILEPATH = \"OnlineNewsPopularity.csv\"\n",
        "\n",
        "NON_PREDICTIVE_COLS = ['url', ' timedelta', ' shares']\n",
        "PREDICTIVE_COLS = [' title_subjectivity',' title_sentiment_polarity',' is_weekend',' global_sentiment_polarity',' self_reference_avg_sharess'\n",
        ",' kw_avg_min',' kw_avg_max',' kw_avg_avg',' timedelta',' n_non_stop_unique_tokens',' num_hrefs',' num_imgs',' average_token_length']\n",
        "TARGET_COL = [' shares']\n",
        "XY_IGNORE_COLS = ['url', 'timedelta']\n",
        "\n",
        "full_data = pandas.read_csv(FILEPATH)\n",
        "\n",
        "X = full_data[[x for x in list(full_data) if x in PREDICTIVE_COLS]]\n",
        "Y = full_data[TARGET_COL]"
      ],
      "execution_count": 0,
      "outputs": []
    },
    {
      "cell_type": "code",
      "metadata": {
        "id": "bolWh1z5UQuR",
        "colab_type": "code",
        "colab": {
          "base_uri": "https://localhost:8080/",
          "height": 228
        },
        "outputId": "4970cb8a-e3b4-4c75-e3a8-6bdbd6663962"
      },
      "source": [
        "[x for x in list(full_data) if x in PREDICTIVE_COLS]"
      ],
      "execution_count": 55,
      "outputs": [
        {
          "output_type": "execute_result",
          "data": {
            "text/plain": [
              "[' timedelta',\n",
              " ' n_non_stop_unique_tokens',\n",
              " ' num_hrefs',\n",
              " ' num_imgs',\n",
              " ' average_token_length',\n",
              " ' kw_avg_min',\n",
              " ' kw_avg_max',\n",
              " ' kw_avg_avg',\n",
              " ' self_reference_avg_sharess',\n",
              " ' is_weekend',\n",
              " ' global_sentiment_polarity',\n",
              " ' title_subjectivity',\n",
              " ' title_sentiment_polarity']"
            ]
          },
          "metadata": {
            "tags": []
          },
          "execution_count": 55
        }
      ]
    },
    {
      "cell_type": "code",
      "metadata": {
        "id": "y_lspc6OV0t3",
        "colab_type": "code",
        "colab": {
          "base_uri": "https://localhost:8080/",
          "height": 1000
        },
        "outputId": "8f1c0aff-0cea-4265-ee5c-8ff99aadb0b3"
      },
      "source": [
        "for i in PREDICTIVE_COLS:\n",
        "  X[i] = preprocessing.scale(X[i])\n",
        "\n",
        "min_max_scaler = preprocessing.MinMaxScaler(feature_range=(0, 1), copy=True)\n",
        "Y = min_max_scaler.fit_transform(Y)\n",
        "\n"
      ],
      "execution_count": 89,
      "outputs": [
        {
          "output_type": "stream",
          "text": [
            "/usr/local/lib/python3.6/dist-packages/ipykernel_launcher.py:2: SettingWithCopyWarning: \n",
            "A value is trying to be set on a copy of a slice from a DataFrame.\n",
            "Try using .loc[row_indexer,col_indexer] = value instead\n",
            "\n",
            "See the caveats in the documentation: https://pandas.pydata.org/pandas-docs/stable/user_guide/indexing.html#returning-a-view-versus-a-copy\n",
            "  \n",
            "/usr/local/lib/python3.6/dist-packages/ipykernel_launcher.py:2: SettingWithCopyWarning: \n",
            "A value is trying to be set on a copy of a slice from a DataFrame.\n",
            "Try using .loc[row_indexer,col_indexer] = value instead\n",
            "\n",
            "See the caveats in the documentation: https://pandas.pydata.org/pandas-docs/stable/user_guide/indexing.html#returning-a-view-versus-a-copy\n",
            "  \n",
            "/usr/local/lib/python3.6/dist-packages/ipykernel_launcher.py:2: SettingWithCopyWarning: \n",
            "A value is trying to be set on a copy of a slice from a DataFrame.\n",
            "Try using .loc[row_indexer,col_indexer] = value instead\n",
            "\n",
            "See the caveats in the documentation: https://pandas.pydata.org/pandas-docs/stable/user_guide/indexing.html#returning-a-view-versus-a-copy\n",
            "  \n",
            "/usr/local/lib/python3.6/dist-packages/ipykernel_launcher.py:2: SettingWithCopyWarning: \n",
            "A value is trying to be set on a copy of a slice from a DataFrame.\n",
            "Try using .loc[row_indexer,col_indexer] = value instead\n",
            "\n",
            "See the caveats in the documentation: https://pandas.pydata.org/pandas-docs/stable/user_guide/indexing.html#returning-a-view-versus-a-copy\n",
            "  \n",
            "/usr/local/lib/python3.6/dist-packages/ipykernel_launcher.py:2: SettingWithCopyWarning: \n",
            "A value is trying to be set on a copy of a slice from a DataFrame.\n",
            "Try using .loc[row_indexer,col_indexer] = value instead\n",
            "\n",
            "See the caveats in the documentation: https://pandas.pydata.org/pandas-docs/stable/user_guide/indexing.html#returning-a-view-versus-a-copy\n",
            "  \n",
            "/usr/local/lib/python3.6/dist-packages/ipykernel_launcher.py:2: SettingWithCopyWarning: \n",
            "A value is trying to be set on a copy of a slice from a DataFrame.\n",
            "Try using .loc[row_indexer,col_indexer] = value instead\n",
            "\n",
            "See the caveats in the documentation: https://pandas.pydata.org/pandas-docs/stable/user_guide/indexing.html#returning-a-view-versus-a-copy\n",
            "  \n",
            "/usr/local/lib/python3.6/dist-packages/ipykernel_launcher.py:2: SettingWithCopyWarning: \n",
            "A value is trying to be set on a copy of a slice from a DataFrame.\n",
            "Try using .loc[row_indexer,col_indexer] = value instead\n",
            "\n",
            "See the caveats in the documentation: https://pandas.pydata.org/pandas-docs/stable/user_guide/indexing.html#returning-a-view-versus-a-copy\n",
            "  \n",
            "/usr/local/lib/python3.6/dist-packages/ipykernel_launcher.py:2: SettingWithCopyWarning: \n",
            "A value is trying to be set on a copy of a slice from a DataFrame.\n",
            "Try using .loc[row_indexer,col_indexer] = value instead\n",
            "\n",
            "See the caveats in the documentation: https://pandas.pydata.org/pandas-docs/stable/user_guide/indexing.html#returning-a-view-versus-a-copy\n",
            "  \n",
            "/usr/local/lib/python3.6/dist-packages/ipykernel_launcher.py:2: SettingWithCopyWarning: \n",
            "A value is trying to be set on a copy of a slice from a DataFrame.\n",
            "Try using .loc[row_indexer,col_indexer] = value instead\n",
            "\n",
            "See the caveats in the documentation: https://pandas.pydata.org/pandas-docs/stable/user_guide/indexing.html#returning-a-view-versus-a-copy\n",
            "  \n",
            "/usr/local/lib/python3.6/dist-packages/ipykernel_launcher.py:2: SettingWithCopyWarning: \n",
            "A value is trying to be set on a copy of a slice from a DataFrame.\n",
            "Try using .loc[row_indexer,col_indexer] = value instead\n",
            "\n",
            "See the caveats in the documentation: https://pandas.pydata.org/pandas-docs/stable/user_guide/indexing.html#returning-a-view-versus-a-copy\n",
            "  \n",
            "/usr/local/lib/python3.6/dist-packages/ipykernel_launcher.py:2: SettingWithCopyWarning: \n",
            "A value is trying to be set on a copy of a slice from a DataFrame.\n",
            "Try using .loc[row_indexer,col_indexer] = value instead\n",
            "\n",
            "See the caveats in the documentation: https://pandas.pydata.org/pandas-docs/stable/user_guide/indexing.html#returning-a-view-versus-a-copy\n",
            "  \n",
            "/usr/local/lib/python3.6/dist-packages/ipykernel_launcher.py:2: SettingWithCopyWarning: \n",
            "A value is trying to be set on a copy of a slice from a DataFrame.\n",
            "Try using .loc[row_indexer,col_indexer] = value instead\n",
            "\n",
            "See the caveats in the documentation: https://pandas.pydata.org/pandas-docs/stable/user_guide/indexing.html#returning-a-view-versus-a-copy\n",
            "  \n",
            "/usr/local/lib/python3.6/dist-packages/ipykernel_launcher.py:2: SettingWithCopyWarning: \n",
            "A value is trying to be set on a copy of a slice from a DataFrame.\n",
            "Try using .loc[row_indexer,col_indexer] = value instead\n",
            "\n",
            "See the caveats in the documentation: https://pandas.pydata.org/pandas-docs/stable/user_guide/indexing.html#returning-a-view-versus-a-copy\n",
            "  \n"
          ],
          "name": "stderr"
        }
      ]
    },
    {
      "cell_type": "code",
      "metadata": {
        "id": "DTxndMhodfEe",
        "colab_type": "code",
        "colab": {
          "base_uri": "https://localhost:8080/",
          "height": 131
        },
        "outputId": "edde456e-c321-46f0-9eb4-c7abe7d084b5"
      },
      "source": [
        "Y"
      ],
      "execution_count": 90,
      "outputs": [
        {
          "output_type": "execute_result",
          "data": {
            "text/plain": [
              "array([[0.000702  ],\n",
              "       [0.00084193],\n",
              "       [0.00177754],\n",
              "       ...,\n",
              "       [0.00225187],\n",
              "       [0.00130322],\n",
              "       [0.00154038]])"
            ]
          },
          "metadata": {
            "tags": []
          },
          "execution_count": 90
        }
      ]
    },
    {
      "cell_type": "code",
      "metadata": {
        "id": "g63qRHtrTA36",
        "colab_type": "code",
        "colab": {
          "base_uri": "https://localhost:8080/",
          "height": 261
        },
        "outputId": "bf647dd1-2cdd-427e-b604-10274371b291"
      },
      "source": [
        "Y[10:25]\n"
      ],
      "execution_count": 91,
      "outputs": [
        {
          "output_type": "execute_result",
          "data": {
            "text/plain": [
              "array([[0.00260762],\n",
              "       [0.00225187],\n",
              "       [0.00097474],\n",
              "       [0.011857  ],\n",
              "       [0.00090122],\n",
              "       [0.00189612],\n",
              "       [0.01612595],\n",
              "       [0.00367485],\n",
              "       [0.00675798],\n",
              "       [0.02027632],\n",
              "       [0.00331911],\n",
              "       [0.00070793],\n",
              "       [0.0005265 ],\n",
              "       [0.00177754],\n",
              "       [0.00100913]])"
            ]
          },
          "metadata": {
            "tags": []
          },
          "execution_count": 91
        }
      ]
    },
    {
      "cell_type": "code",
      "metadata": {
        "id": "Fo7axRCWkPEH",
        "colab_type": "code",
        "colab": {}
      },
      "source": [
        "#Training and test data\n",
        "X_train,X_test,y_train,y_test = train_test_split(X,Y,test_size = 0.1)"
      ],
      "execution_count": 0,
      "outputs": []
    },
    {
      "cell_type": "code",
      "metadata": {
        "id": "YpHxGgNETb1j",
        "colab_type": "code",
        "colab": {}
      },
      "source": [
        ""
      ],
      "execution_count": 0,
      "outputs": []
    },
    {
      "cell_type": "code",
      "metadata": {
        "id": "v8eRZgZoLc9Y",
        "colab_type": "code",
        "colab": {}
      },
      "source": [
        "optimizer='adam'\n",
        "loss='binary_crossentropy'\n",
        "activation='relu'\n",
        "# create model\n",
        "model = models.Sequential()\n",
        "model.add(Dense(32, input_dim=13, kernel_initializer='normal', activation=activation))\n",
        "model.add(Dense(32,kernel_initializer='normal', activation=activation))\n",
        "model.add(Dropout(0.2))\n",
        "model.add(Dense(32,kernel_initializer='normal', activation=activation))\n",
        "model.add(Dense(32,kernel_initializer='normal', activation=activation))\n",
        "model.add(Dense(32,kernel_initializer='normal', activation=activation))\n",
        "model.add(Dropout(0.2))\n",
        "model.add(Dense(1, kernel_initializer='normal', activation='sigmoid'))\n",
        "# Compile and return model\n",
        "model.compile(loss=loss, optimizer=optimizer, metrics=['accuracy'])\n"
      ],
      "execution_count": 0,
      "outputs": []
    },
    {
      "cell_type": "code",
      "metadata": {
        "id": "7zdE2JOXLh7U",
        "colab_type": "code",
        "colab": {}
      },
      "source": [
        ""
      ],
      "execution_count": 0,
      "outputs": []
    },
    {
      "cell_type": "code",
      "metadata": {
        "id": "xR_iVdx2qIm5",
        "colab_type": "code",
        "colab": {}
      },
      "source": [
        "model = models.Sequential()\n",
        "model.add(Dense(10, input_dim=13, activation='relu', kernel_constraint=maxnorm(3)))\n",
        "model.add(Dropout(0.2))\n",
        "model.add(Dense(20, activation='relu', kernel_constraint=maxnorm(3)))\n",
        "model.add(Dropout(0.2))\n",
        "model.add(Dense(30, activation='relu', kernel_constraint=maxnorm(3)))\n",
        "model.add(Dense(10, activation='relu', kernel_constraint=maxnorm(3)))\n",
        "model.add(Dense(1, activation='sigmoid'))\n",
        "model.compile(optimizer='adam',loss='mean_squared_error')\n"
      ],
      "execution_count": 0,
      "outputs": []
    },
    {
      "cell_type": "code",
      "metadata": {
        "id": "c0wYQd-CqRbk",
        "colab_type": "code",
        "outputId": "4dd60725-e0b1-4636-b739-cd9c52799c53",
        "colab": {
          "base_uri": "https://localhost:8080/",
          "height": 1000
        }
      },
      "source": [
        "model.fit(X_train, y_train, epochs=50, batch_size=1000)"
      ],
      "execution_count": 94,
      "outputs": [
        {
          "output_type": "stream",
          "text": [
            "Epoch 1/50\n",
            "35679/35679 [==============================] - 0s 9us/step - loss: 0.0872\n",
            "Epoch 2/50\n",
            "35679/35679 [==============================] - 0s 4us/step - loss: 0.0122\n",
            "Epoch 3/50\n",
            "35679/35679 [==============================] - 0s 4us/step - loss: 0.0034\n",
            "Epoch 4/50\n",
            "35679/35679 [==============================] - 0s 4us/step - loss: 0.0013\n",
            "Epoch 5/50\n",
            "35679/35679 [==============================] - 0s 4us/step - loss: 6.2060e-04\n",
            "Epoch 6/50\n",
            "35679/35679 [==============================] - 0s 4us/step - loss: 4.3179e-04\n",
            "Epoch 7/50\n",
            "35679/35679 [==============================] - 0s 4us/step - loss: 3.4488e-04\n",
            "Epoch 8/50\n",
            "35679/35679 [==============================] - 0s 4us/step - loss: 3.0211e-04\n",
            "Epoch 9/50\n",
            "35679/35679 [==============================] - 0s 4us/step - loss: 2.8073e-04\n",
            "Epoch 10/50\n",
            "35679/35679 [==============================] - 0s 4us/step - loss: 2.6770e-04\n",
            "Epoch 11/50\n",
            "35679/35679 [==============================] - 0s 4us/step - loss: 2.5591e-04\n",
            "Epoch 12/50\n",
            "35679/35679 [==============================] - 0s 4us/step - loss: 2.4547e-04\n",
            "Epoch 13/50\n",
            "35679/35679 [==============================] - 0s 4us/step - loss: 2.4030e-04\n",
            "Epoch 14/50\n",
            "35679/35679 [==============================] - 0s 4us/step - loss: 2.3854e-04\n",
            "Epoch 15/50\n",
            "35679/35679 [==============================] - 0s 4us/step - loss: 2.3605e-04\n",
            "Epoch 16/50\n",
            "35679/35679 [==============================] - 0s 4us/step - loss: 2.3265e-04\n",
            "Epoch 17/50\n",
            "35679/35679 [==============================] - 0s 4us/step - loss: 2.3077e-04\n",
            "Epoch 18/50\n",
            "35679/35679 [==============================] - 0s 4us/step - loss: 2.2981e-04\n",
            "Epoch 19/50\n",
            "35679/35679 [==============================] - 0s 4us/step - loss: 2.2853e-04\n",
            "Epoch 20/50\n",
            "35679/35679 [==============================] - 0s 4us/step - loss: 2.2583e-04\n",
            "Epoch 21/50\n",
            "35679/35679 [==============================] - 0s 4us/step - loss: 2.2625e-04\n",
            "Epoch 22/50\n",
            "35679/35679 [==============================] - 0s 4us/step - loss: 2.2552e-04\n",
            "Epoch 23/50\n",
            "35679/35679 [==============================] - 0s 4us/step - loss: 2.2488e-04\n",
            "Epoch 24/50\n",
            "35679/35679 [==============================] - 0s 4us/step - loss: 2.2447e-04\n",
            "Epoch 25/50\n",
            "35679/35679 [==============================] - 0s 4us/step - loss: 2.2446e-04\n",
            "Epoch 26/50\n",
            "35679/35679 [==============================] - 0s 4us/step - loss: 2.2363e-04\n",
            "Epoch 27/50\n",
            "35679/35679 [==============================] - 0s 4us/step - loss: 2.2295e-04\n",
            "Epoch 28/50\n",
            "35679/35679 [==============================] - 0s 4us/step - loss: 2.2223e-04\n",
            "Epoch 29/50\n",
            "35679/35679 [==============================] - 0s 4us/step - loss: 2.2228e-04\n",
            "Epoch 30/50\n",
            "35679/35679 [==============================] - 0s 4us/step - loss: 2.2206e-04\n",
            "Epoch 31/50\n",
            "35679/35679 [==============================] - 0s 4us/step - loss: 2.2141e-04\n",
            "Epoch 32/50\n",
            "35679/35679 [==============================] - 0s 4us/step - loss: 2.2153e-04\n",
            "Epoch 33/50\n",
            "35679/35679 [==============================] - 0s 4us/step - loss: 2.2178e-04\n",
            "Epoch 34/50\n",
            "35679/35679 [==============================] - 0s 4us/step - loss: 2.2194e-04\n",
            "Epoch 35/50\n",
            "35679/35679 [==============================] - 0s 4us/step - loss: 2.2154e-04\n",
            "Epoch 36/50\n",
            "35679/35679 [==============================] - 0s 4us/step - loss: 2.2144e-04\n",
            "Epoch 37/50\n",
            "35679/35679 [==============================] - 0s 4us/step - loss: 2.2086e-04\n",
            "Epoch 38/50\n",
            "35679/35679 [==============================] - 0s 4us/step - loss: 2.2078e-04\n",
            "Epoch 39/50\n",
            "35679/35679 [==============================] - 0s 4us/step - loss: 2.2092e-04\n",
            "Epoch 40/50\n",
            "35679/35679 [==============================] - 0s 4us/step - loss: 2.2091e-04\n",
            "Epoch 41/50\n",
            "35679/35679 [==============================] - 0s 4us/step - loss: 2.2054e-04\n",
            "Epoch 42/50\n",
            "35679/35679 [==============================] - 0s 4us/step - loss: 2.2064e-04\n",
            "Epoch 43/50\n",
            "35679/35679 [==============================] - 0s 4us/step - loss: 2.2086e-04\n",
            "Epoch 44/50\n",
            "35679/35679 [==============================] - 0s 4us/step - loss: 2.2046e-04\n",
            "Epoch 45/50\n",
            "35679/35679 [==============================] - 0s 4us/step - loss: 2.2049e-04\n",
            "Epoch 46/50\n",
            "35679/35679 [==============================] - 0s 4us/step - loss: 2.2080e-04\n",
            "Epoch 47/50\n",
            "35679/35679 [==============================] - 0s 4us/step - loss: 2.2053e-04\n",
            "Epoch 48/50\n",
            "35679/35679 [==============================] - 0s 4us/step - loss: 2.2067e-04\n",
            "Epoch 49/50\n",
            "35679/35679 [==============================] - 0s 4us/step - loss: 2.2019e-04\n",
            "Epoch 50/50\n",
            "35679/35679 [==============================] - 0s 4us/step - loss: 2.2053e-04\n"
          ],
          "name": "stdout"
        },
        {
          "output_type": "execute_result",
          "data": {
            "text/plain": [
              "<keras.callbacks.callbacks.History at 0x7f8fbd3b7b38>"
            ]
          },
          "metadata": {
            "tags": []
          },
          "execution_count": 94
        }
      ]
    },
    {
      "cell_type": "code",
      "metadata": {
        "id": "YvmNLm-5sBVq",
        "colab_type": "code",
        "colab": {}
      },
      "source": [
        "y_pred = model.predict(X_test)"
      ],
      "execution_count": 0,
      "outputs": []
    },
    {
      "cell_type": "code",
      "metadata": {
        "id": "zgmVB-Mh69cg",
        "colab_type": "code",
        "outputId": "2e6b1ed3-6fc6-4bd8-949f-20d8ed46095b",
        "colab": {
          "base_uri": "https://localhost:8080/",
          "height": 131
        }
      },
      "source": [
        "y_pred"
      ],
      "execution_count": 96,
      "outputs": [
        {
          "output_type": "execute_result",
          "data": {
            "text/plain": [
              "array([[9.1922265e-09],\n",
              "       [1.2428873e-05],\n",
              "       [1.7817239e-06],\n",
              "       ...,\n",
              "       [2.2245092e-04],\n",
              "       [7.2836633e-06],\n",
              "       [2.8321426e-06]], dtype=float32)"
            ]
          },
          "metadata": {
            "tags": []
          },
          "execution_count": 96
        }
      ]
    },
    {
      "cell_type": "code",
      "metadata": {
        "id": "McCQQZjKeHWj",
        "colab_type": "code",
        "colab": {
          "base_uri": "https://localhost:8080/",
          "height": 33
        },
        "outputId": "e6b63417-7d29-4262-ccee-4560c5d9e457"
      },
      "source": [
        "mean_squared_error(y_test, y_pred)"
      ],
      "execution_count": 99,
      "outputs": [
        {
          "output_type": "execute_result",
          "data": {
            "text/plain": [
              "8.376571891186836e-05"
            ]
          },
          "metadata": {
            "tags": []
          },
          "execution_count": 99
        }
      ]
    },
    {
      "cell_type": "code",
      "metadata": {
        "id": "YYeQ0RLLc8Zg",
        "colab_type": "code",
        "colab": {}
      },
      "source": [
        ""
      ],
      "execution_count": 0,
      "outputs": []
    }
  ]
}